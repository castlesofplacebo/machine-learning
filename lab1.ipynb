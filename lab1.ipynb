{
  "nbformat": 4,
  "nbformat_minor": 0,
  "metadata": {
    "colab": {
      "name": "lab1.ipynb",
      "provenance": [],
      "collapsed_sections": []
    },
    "kernelspec": {
      "display_name": "Python 3",
      "language": "python",
      "name": "python3"
    },
    "language_info": {
      "codemirror_mode": {
        "name": "ipython",
        "version": 3
      },
      "file_extension": ".py",
      "mimetype": "text/x-python",
      "name": "python",
      "nbconvert_exporter": "python",
      "pygments_lexer": "ipython3",
      "version": "3.7.4"
    }
  },
  "cells": [
    {
      "cell_type": "markdown",
      "metadata": {
        "id": "BsNwjQDRfmLY"
      },
      "source": [
        "# Задание 1"
      ]
    },
    {
      "cell_type": "markdown",
      "metadata": {
        "id": "wu6r1-s7fmLe"
      },
      "source": [
        "---"
      ]
    },
    {
      "cell_type": "markdown",
      "metadata": {
        "id": "zxRIdPO9gYyX"
      },
      "source": [
        "Напишите программу, которая будет решать систему линейных уравнений вида:\n",
        "\n",
        "\\begin{matrix} a_{11}x+a_{12}y=b_{1}&(1) \\\\ a_{21}x+a_{22}y=b_{2} &(2) \\end{matrix}\n",
        "​\t\n",
        "На вход программа должна принимать 2 строки.\n",
        "\n",
        "Каждая строка содержит 3 действительных числа через пробел: коэффициенты a и b.\n",
        "\n",
        "На выходе программа должна выдавать значения x и y в одну строку через пробел.\n",
        " \n",
        "\n",
        "Примечание 1. Для разделения строки на отдельные элементы используйте функцию split()\n",
        "\n",
        "Примечание 2. В качестве разделителя между целой и дробной частью используйте точку, например 0.2"
      ]
    },
    {
      "cell_type": "code",
      "metadata": {
        "id": "LmmNDPybyzUf"
      },
      "source": [
        "import numpy"
      ],
      "execution_count": null,
      "outputs": []
    },
    {
      "cell_type": "code",
      "metadata": {
        "id": "6sxlcLbVlrjl"
      },
      "source": [
        "def linan(first_line, second_line):\n",
        "  a11, a12, b1 = map(float, first_line.split(' '))\n",
        "  a21, a22, b2 = map(float, second_line.split(' '))\n",
        "  \n",
        "  matrix = numpy.array([[a11, a12], [a21, a22]])\n",
        "  vector = numpy.array([[b1], [b2]])\n",
        "  return numpy.linalg.solve(matrix, vector)"
      ],
      "execution_count": null,
      "outputs": []
    },
    {
      "cell_type": "code",
      "metadata": {
        "colab": {
          "base_uri": "https://localhost:8080/"
        },
        "id": "4BDkpxAOLbzB",
        "outputId": "1766313c-abec-4c3b-9063-d497cefd2332"
      },
      "source": [
        "first_line = input()\n",
        "second_line = input()\n",
        "solution = linan(first_line, second_line)"
      ],
      "execution_count": null,
      "outputs": [
        {
          "name": "stdout",
          "output_type": "stream",
          "text": [
            "1 2 3\n",
            "4 5 6\n"
          ]
        }
      ]
    },
    {
      "cell_type": "code",
      "metadata": {
        "colab": {
          "base_uri": "https://localhost:8080/"
        },
        "id": "aQ9M1JkY4pTv",
        "outputId": "994b32c6-7230-4dd7-a5ab-0cc8eda7de97"
      },
      "source": [
        "print(round(float(solution[0]), 3), round(float(solution[1]), 3))"
      ],
      "execution_count": null,
      "outputs": [
        {
          "output_type": "stream",
          "name": "stdout",
          "text": [
            "-1.0 2.0\n"
          ]
        }
      ]
    },
    {
      "cell_type": "markdown",
      "metadata": {
        "id": "wLoVDMQnfmOv"
      },
      "source": [
        "# Задание 2"
      ]
    },
    {
      "cell_type": "markdown",
      "metadata": {
        "id": "6bmt_YF3fmOw"
      },
      "source": [
        "Напишите функцию `decorate_matrix`, которая получает на вход одно целое число больше единицы. Функция должна возвращать матрицу n на n, у которой на границах стоят единицы, а на всех остальных позициях(если остались позиции не на границах) стоят нули.\n",
        "\n",
        "```\n",
        "# ожидаемый резальтат для аргумента 5\n",
        "array([[1., 1., 1., 1., 1.],\n",
        "[1., 0., 0., 0., 1.],\n",
        "[1., 0., 0., 0., 1.],\n",
        "[1., 0., 0., 0., 1.],\n",
        "[1., 1., 1., 1., 1.]])\n",
        "```\n",
        "\n"
      ]
    },
    {
      "cell_type": "code",
      "metadata": {
        "id": "xNQVg_96onBa"
      },
      "source": [
        "def get_matrix(n):\n",
        "  matrix = numpy.zeros((n, n))\n",
        "  matrix[0,:] = 1\n",
        "  matrix[- 1,:] = 1\n",
        "  matrix[:,0] = 1\n",
        "  matrix[:,- 1] = 1\n",
        "  return matrix"
      ],
      "execution_count": null,
      "outputs": []
    },
    {
      "cell_type": "code",
      "metadata": {
        "colab": {
          "base_uri": "https://localhost:8080/"
        },
        "id": "VXjbnoZmjlrU",
        "outputId": "0356ed17-efb1-4170-a58a-6f423ab41544"
      },
      "source": [
        "n = int(input())"
      ],
      "execution_count": null,
      "outputs": [
        {
          "name": "stdout",
          "output_type": "stream",
          "text": [
            "4\n"
          ]
        }
      ]
    },
    {
      "cell_type": "code",
      "metadata": {
        "colab": {
          "base_uri": "https://localhost:8080/"
        },
        "id": "SQ52FqeMrHQN",
        "outputId": "aeeebabd-37cb-4730-bb04-88acfb3d06fb"
      },
      "source": [
        "get_matrix(n)"
      ],
      "execution_count": null,
      "outputs": [
        {
          "output_type": "execute_result",
          "data": {
            "text/plain": [
              "array([[1., 1., 1., 1.],\n",
              "       [1., 0., 0., 1.],\n",
              "       [1., 0., 0., 1.],\n",
              "       [1., 1., 1., 1.]])"
            ]
          },
          "metadata": {},
          "execution_count": 38
        }
      ]
    },
    {
      "cell_type": "markdown",
      "metadata": {
        "id": "75sxny1zSCbl"
      },
      "source": [
        "# Задание 3"
      ]
    },
    {
      "cell_type": "markdown",
      "metadata": {
        "id": "2Xq1tBBAS5UJ"
      },
      "source": [
        "1) реализуйте 2 функции:\n",
        "\n",
        "$f(x) = (x+a)^2 - b$ \n",
        "\n",
        "$g(x) = |f(x)|$\n",
        "\n",
        "2) Найдите аргументы, при которых достигается минимум функций $f(x)$ и $g(x)$\n",
        "\n",
        "Пример. \n",
        "Входные значение: $a=3$ и $b=4$\n",
        "\n",
        "Выходные значения:\n",
        "\n",
        "`-3.0 -1.0`"
      ]
    },
    {
      "cell_type": "code",
      "metadata": {
        "id": "cJctrp9FosRl"
      },
      "source": [
        "from scipy import optimize"
      ],
      "execution_count": null,
      "outputs": []
    },
    {
      "cell_type": "code",
      "metadata": {
        "id": "cdFCz3XtmpxR"
      },
      "source": [
        "def f(x):\n",
        "  return (x + a) ** 2 - b\n",
        "\n",
        "def g(x):\n",
        "  return abs(f(x))\n",
        "\n",
        "def find_minima(f):\n",
        "  f_solution = optimize.minimize_scalar(f)\n",
        "  if (f_solution.success == True):\n",
        "    return round(f_solution.x, 3)\n",
        "  else:\n",
        "    return \"find no minima\""
      ],
      "execution_count": null,
      "outputs": []
    },
    {
      "cell_type": "code",
      "metadata": {
        "colab": {
          "base_uri": "https://localhost:8080/"
        },
        "id": "hw8-BBTunYAG",
        "outputId": "414bb5bd-12d3-4e96-ad9d-f2bb0f7f30aa"
      },
      "source": [
        " a = float(input())\n",
        " b = float(input())"
      ],
      "execution_count": null,
      "outputs": [
        {
          "name": "stdout",
          "output_type": "stream",
          "text": [
            "3\n",
            "4\n"
          ]
        }
      ]
    },
    {
      "cell_type": "code",
      "metadata": {
        "colab": {
          "base_uri": "https://localhost:8080/"
        },
        "id": "lvvMfienv3YG",
        "outputId": "8035043b-3eb7-4dbe-f019-0f0c9fcc6323"
      },
      "source": [
        "second_min_g_bool = False\n",
        "\n",
        "if f(find_minima(f)) < 0:\n",
        "  second_min_g = 2 * find_minima(f) - find_minima(g)\n",
        "  second_min_g_bool = True\n",
        "  \n",
        "print(find_minima(f), find_minima(g))"
      ],
      "execution_count": null,
      "outputs": [
        {
          "output_type": "stream",
          "name": "stdout",
          "text": [
            "-3.0 -1.0\n"
          ]
        }
      ]
    },
    {
      "cell_type": "markdown",
      "metadata": {
        "id": "efml9GzISC9Q"
      },
      "source": [
        "# Задание 4"
      ]
    },
    {
      "cell_type": "markdown",
      "metadata": {
        "id": "SDZvKcsTVbAW"
      },
      "source": [
        "Постройте графики для функций из предыдущего задания и отметьте другим цветом на графиках точки найденных минимумов."
      ]
    },
    {
      "cell_type": "code",
      "metadata": {
        "id": "V6bUWR-jYIcT"
      },
      "source": [
        "import matplotlib.pyplot as plt"
      ],
      "execution_count": null,
      "outputs": []
    },
    {
      "cell_type": "code",
      "metadata": {
        "id": "9agmFzLlXZ1U"
      },
      "source": [
        "def plot_function(f, x_mins = None):\n",
        "    x = range(-10, 10)\n",
        "    y = list(map(f, x))\n",
        "\n",
        "    plt.plot(x, y)\n",
        "    plt.ylabel(\"Y\")\n",
        "    plt.xlabel(\"X\")\n",
        "    min = find_minima(f)\n",
        "    if x_mins is None:\n",
        "      plt.scatter(min, f(min), color = \"green\")\n",
        "    else:\n",
        "      for x in x_mins:\n",
        "        plt.scatter(x, f(x), color = \"green\")"
      ],
      "execution_count": null,
      "outputs": []
    },
    {
      "cell_type": "code",
      "metadata": {
        "colab": {
          "base_uri": "https://localhost:8080/",
          "height": 279
        },
        "id": "b3CNaXo9co-r",
        "outputId": "ed6bc57b-feca-455e-9ab1-f5e74ff8783d"
      },
      "source": [
        "plot_function(f)"
      ],
      "execution_count": null,
      "outputs": [
        {
          "output_type": "display_data",
          "data": {
            "image/png": "[encoded data removed]",
            "text/plain": [
              "<Figure size 432x288 with 1 Axes>"
            ]
          },
          "metadata": {
            "needs_background": "light"
          }
        }
      ]
    },
    {
      "cell_type": "code",
      "metadata": {
        "colab": {
          "base_uri": "https://localhost:8080/",
          "height": 279
        },
        "id": "Gl0YZZ8tbx0X",
        "outputId": "17d75dbc-0444-4e5c-96a5-64cef95568b6"
      },
      "source": [
        "if second_min_g_bool:\n",
        "  plot_function(g, [second_min_g, find_minima(g)])\n",
        "else:\n",
        "  plot_function(g)"
      ],
      "execution_count": null,
      "outputs": [
        {
          "output_type": "display_data",
          "data": {
            "image/png": "[encoded data removed]",
            "text/plain": [
              "<Figure size 432x288 with 1 Axes>"
            ]
          },
          "metadata": {
            "needs_background": "light"
          }
        }
      ]
    },
    {
      "cell_type": "markdown",
      "metadata": {
        "id": "mrby3EfiSDKJ"
      },
      "source": [
        "# Задание 5"
      ]
    },
    {
      "cell_type": "markdown",
      "metadata": {
        "id": "J6AZ8785VkQd"
      },
      "source": [
        "1000 человек бросают монетку. Каждый бросил 10 раз подряд.\n",
        "\n",
        " 1. Какова вероятность того, что хотя бы у одного человека монетка выпала 10 раз подряд той же самой стороной (орлом или решкой)? \n",
        " 2. Какова вероятность того, что хотя бы у одного человека монетка выпала 8 раз подряд той же самой стороной (орлом или решкой)? \n",
        " 3. Какова вероятность того, что ровно у троих человек из 1000 монетка выпала 10 раз подряд той же самой стороной (орлом или решкой)?"
      ]
    },
    {
      "cell_type": "markdown",
      "metadata": {
        "id": "VmKdtBbvONVx"
      },
      "source": [
        "1. Рассмотрим броски отдельного человека: бросая монетку 10 раз подряд он может получить **1024** возможные комбинации орла и решки (так как всего возможно 2 элементарных исхода, орел или решка, и бросков всего 10: $ 2^{10} $). При этом есть всего две комбинации, при которых монета выпадает 10 раз подряд орлом или решкой. Таким образом, вероятность того, что у человека выпадет монета 10 раз подряд одной и той же стороной равна:\n",
        "$ 2/1024 = 1/512 $.\n",
        "Найдем вероятность того, что у человека при броске **НЕ** выпала 10 раз одна сторона. Такая вероятность равна:\n",
        "$ 1 - 2/1024 = 1022/1024 $.\n",
        "Для того, чтобы найти исходную вероятность, когда нужная комбинация выпала хотя бы у одного человека, воспользуемся фактом того, что *все возможные события = комбинация не выпала ни у кого + комбинация выпала хотя бы у одного человека*.\n",
        "Тогда для 1000 человек имеем формулу:\n",
        "$ 1 - (1022/1024)^{1000}$"
      ]
    },
    {
      "cell_type": "code",
      "metadata": {
        "colab": {
          "base_uri": "https://localhost:8080/"
        },
        "id": "gQw24P4A7Gg3",
        "outputId": "bc2b8359-f9e2-48da-a16e-5232556a6f00"
      },
      "source": [
        "print(round((1-(1022/1024)**1000) * 100, 3), '%')"
      ],
      "execution_count": null,
      "outputs": [
        {
          "output_type": "stream",
          "name": "stdout",
          "text": [
            "85.844 %\n"
          ]
        }
      ]
    },
    {
      "cell_type": "markdown",
      "metadata": {
        "id": "Lr15IXyVYNrC"
      },
      "source": [
        "2. По аналогии с пунктом 1, найдем вероятность того, что у человека 8 раз подряд выпадет одна сторона монеты. Таких вариантов всего 10: ОООООООО(РО/РР), РРРРРРРР(ОР/ОО), (ОО, РО)РРРРРРРР и (РР, ОР)ОООООООО, OPPPPPPPPO, POOOOOOOOP. Тогда вероятность выпадения для одного человека:\n",
        "$ 10/1024 $.\n",
        "Найдем вероятность того, что у человека при броске НЕ выпала 8 раз одна сторона. Такая вероятность равна:\n",
        "$ 1−10/1024=1014/1024$ .\n",
        "Тогда для 1000 человек имеем формулу:\n",
        "$ 1 - (1014/1024)^{1000}$"
      ]
    },
    {
      "cell_type": "code",
      "metadata": {
        "colab": {
          "base_uri": "https://localhost:8080/"
        },
        "id": "VA9LYlGT8USj",
        "outputId": "ae4a7ff0-e17e-47a9-ea5f-40529339f672"
      },
      "source": [
        "print(round((1-(1014/1024)**1000) * 100, 3), '%')"
      ],
      "execution_count": null,
      "outputs": [
        {
          "output_type": "stream",
          "name": "stdout",
          "text": [
            "99.995 %\n"
          ]
        }
      ]
    },
    {
      "cell_type": "markdown",
      "metadata": {
        "id": "I7kZryVmaShd"
      },
      "source": [
        "3. По формуле Бернулли найдем вероятность того, что из 1000 людей ровно у 3-х человек 10 раз подряд выпадет одна сторона монеты. Формула имеет вид:\n",
        "$ C^{3}_{10} * (2/1024) ^ {3} * (1022/1024) ^ {997}$"
      ]
    },
    {
      "cell_type": "code",
      "metadata": {
        "id": "Yi3tmRxwKeYM"
      },
      "source": [
        "import scipy.special"
      ],
      "execution_count": null,
      "outputs": []
    },
    {
      "cell_type": "code",
      "metadata": {
        "colab": {
          "base_uri": "https://localhost:8080/"
        },
        "id": "CBWmsve38ec1",
        "outputId": "ece6d609-1bcf-4e37-dbe2-2826d7bfc16e"
      },
      "source": [
        "print(round(((2)**3 * (1022)**997 / 1024 ** 1000) * scipy.special.binom(1000, 3) * 100, 3), '%')"
      ],
      "execution_count": null,
      "outputs": [
        {
          "output_type": "stream",
          "name": "stdout",
          "text": [
            "17.629 %\n"
          ]
        }
      ]
    }
  ]
}